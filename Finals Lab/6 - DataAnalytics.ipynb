{
 "cells": [
  {
   "cell_type": "code",
   "execution_count": 39,
   "metadata": {},
   "outputs": [],
   "source": [
    "import numpy as np\n",
    "import pandas as pd\n",
    "import matplotlib.pyplot as plt"
   ]
  },
  {
   "cell_type": "code",
   "execution_count": 40,
   "metadata": {},
   "outputs": [
    {
     "data": {
      "text/html": [
       "<div>\n",
       "<style scoped>\n",
       "    .dataframe tbody tr th:only-of-type {\n",
       "        vertical-align: middle;\n",
       "    }\n",
       "\n",
       "    .dataframe tbody tr th {\n",
       "        vertical-align: top;\n",
       "    }\n",
       "\n",
       "    .dataframe thead th {\n",
       "        text-align: right;\n",
       "    }\n",
       "</style>\n",
       "<table border=\"1\" class=\"dataframe\">\n",
       "  <thead>\n",
       "    <tr style=\"text-align: right;\">\n",
       "      <th></th>\n",
       "      <th>asin</th>\n",
       "      <th>name</th>\n",
       "      <th>date</th>\n",
       "      <th>rating</th>\n",
       "      <th>review</th>\n",
       "    </tr>\n",
       "  </thead>\n",
       "  <tbody>\n",
       "    <tr>\n",
       "      <th>0</th>\n",
       "      <td>B07W7CTLD1</td>\n",
       "      <td>Mamaearth-Onion-Growth-Control-Redensyl</td>\n",
       "      <td>2019-09-06</td>\n",
       "      <td>1</td>\n",
       "      <td>I bought this hair oil after viewing so many g...</td>\n",
       "    </tr>\n",
       "    <tr>\n",
       "      <th>1</th>\n",
       "      <td>B07W7CTLD1</td>\n",
       "      <td>Mamaearth-Onion-Growth-Control-Redensyl</td>\n",
       "      <td>2019-08-14</td>\n",
       "      <td>5</td>\n",
       "      <td>Used This Mama Earth Newly Launched Onion Oil ...</td>\n",
       "    </tr>\n",
       "    <tr>\n",
       "      <th>2</th>\n",
       "      <td>B07W7CTLD1</td>\n",
       "      <td>Mamaearth-Onion-Growth-Control-Redensyl</td>\n",
       "      <td>2019-10-19</td>\n",
       "      <td>1</td>\n",
       "      <td>So bad product...My hair falling increase too ...</td>\n",
       "    </tr>\n",
       "    <tr>\n",
       "      <th>3</th>\n",
       "      <td>B07W7CTLD1</td>\n",
       "      <td>Mamaearth-Onion-Growth-Control-Redensyl</td>\n",
       "      <td>2019-09-16</td>\n",
       "      <td>1</td>\n",
       "      <td>Product just smells similar to navarathna hair...</td>\n",
       "    </tr>\n",
       "    <tr>\n",
       "      <th>4</th>\n",
       "      <td>B07W7CTLD1</td>\n",
       "      <td>Mamaearth-Onion-Growth-Control-Redensyl</td>\n",
       "      <td>2019-08-18</td>\n",
       "      <td>5</td>\n",
       "      <td>I have been trying different onion oil for my ...</td>\n",
       "    </tr>\n",
       "  </tbody>\n",
       "</table>\n",
       "</div>"
      ],
      "text/plain": [
       "         asin                                     name        date  rating  \\\n",
       "0  B07W7CTLD1  Mamaearth-Onion-Growth-Control-Redensyl  2019-09-06       1   \n",
       "1  B07W7CTLD1  Mamaearth-Onion-Growth-Control-Redensyl  2019-08-14       5   \n",
       "2  B07W7CTLD1  Mamaearth-Onion-Growth-Control-Redensyl  2019-10-19       1   \n",
       "3  B07W7CTLD1  Mamaearth-Onion-Growth-Control-Redensyl  2019-09-16       1   \n",
       "4  B07W7CTLD1  Mamaearth-Onion-Growth-Control-Redensyl  2019-08-18       5   \n",
       "\n",
       "                                              review  \n",
       "0  I bought this hair oil after viewing so many g...  \n",
       "1  Used This Mama Earth Newly Launched Onion Oil ...  \n",
       "2  So bad product...My hair falling increase too ...  \n",
       "3  Product just smells similar to navarathna hair...  \n",
       "4  I have been trying different onion oil for my ...  "
      ]
     },
     "execution_count": 40,
     "metadata": {},
     "output_type": "execute_result"
    }
   ],
   "source": [
    "df= pd.read_csv('6 mamaearth.csv')\n",
    "df.head()"
   ]
  },
  {
   "cell_type": "code",
   "execution_count": 41,
   "metadata": {},
   "outputs": [
    {
     "data": {
      "text/plain": [
       "(2782, 5)"
      ]
     },
     "execution_count": 41,
     "metadata": {},
     "output_type": "execute_result"
    }
   ],
   "source": [
    "df.shape\n"
   ]
  },
  {
   "cell_type": "code",
   "execution_count": 42,
   "metadata": {},
   "outputs": [
    {
     "data": {
      "text/plain": [
       "(2778, 5)"
      ]
     },
     "execution_count": 42,
     "metadata": {},
     "output_type": "execute_result"
    }
   ],
   "source": [
    "df.dropna(inplace= True)\n",
    "df = df.reset_index()\n",
    "df.drop(['index'], axis = 1, inplace= True) \n",
    "df.shape"
   ]
  },
  {
   "cell_type": "code",
   "execution_count": 43,
   "metadata": {},
   "outputs": [
    {
     "data": {
      "text/plain": [
       "array(['mamaearth', 'godrej', 'titan', 'maaza', 'paper', 'indiana',\n",
       "       'coca', 'natural', 'maggi', 'glucon', 'amul', 'patanjali',\n",
       "       'dettol', 'savlon', 'cinthol', 'britannia', 'nutrichoice',\n",
       "       'streax', 'himalaya', 'society', 'tata', 'fastrack', 'reflex',\n",
       "       'mysore'], dtype=object)"
      ]
     },
     "execution_count": 43,
     "metadata": {},
     "output_type": "execute_result"
    }
   ],
   "source": [
    "def get_brand(x):\n",
    "    return x.split('-')[0].lower()\n",
    "\n",
    "df['brand']= df['name'].apply(get_brand)\n",
    "df['brand'].unique()"
   ]
  },
  {
   "cell_type": "code",
   "execution_count": 51,
   "metadata": {},
   "outputs": [
    {
     "data": {
      "text/html": [
       "<div>\n",
       "<style scoped>\n",
       "    .dataframe tbody tr th:only-of-type {\n",
       "        vertical-align: middle;\n",
       "    }\n",
       "\n",
       "    .dataframe tbody tr th {\n",
       "        vertical-align: top;\n",
       "    }\n",
       "\n",
       "    .dataframe thead th {\n",
       "        text-align: right;\n",
       "    }\n",
       "</style>\n",
       "<table border=\"1\" class=\"dataframe\">\n",
       "  <thead>\n",
       "    <tr style=\"text-align: right;\">\n",
       "      <th></th>\n",
       "      <th>brand</th>\n",
       "      <th>count</th>\n",
       "    </tr>\n",
       "  </thead>\n",
       "  <tbody>\n",
       "    <tr>\n",
       "      <th>9</th>\n",
       "      <td>indiana</td>\n",
       "      <td>6</td>\n",
       "    </tr>\n",
       "    <tr>\n",
       "      <th>15</th>\n",
       "      <td>nutrichoice</td>\n",
       "      <td>12</td>\n",
       "    </tr>\n",
       "    <tr>\n",
       "      <th>11</th>\n",
       "      <td>maggi</td>\n",
       "      <td>20</td>\n",
       "    </tr>\n",
       "    <tr>\n",
       "      <th>19</th>\n",
       "      <td>savlon</td>\n",
       "      <td>20</td>\n",
       "    </tr>\n",
       "    <tr>\n",
       "      <th>3</th>\n",
       "      <td>coca</td>\n",
       "      <td>20</td>\n",
       "    </tr>\n",
       "    <tr>\n",
       "      <th>6</th>\n",
       "      <td>glucon</td>\n",
       "      <td>20</td>\n",
       "    </tr>\n",
       "    <tr>\n",
       "      <th>10</th>\n",
       "      <td>maaza</td>\n",
       "      <td>20</td>\n",
       "    </tr>\n",
       "    <tr>\n",
       "      <th>18</th>\n",
       "      <td>reflex</td>\n",
       "      <td>40</td>\n",
       "    </tr>\n",
       "    <tr>\n",
       "      <th>16</th>\n",
       "      <td>paper</td>\n",
       "      <td>40</td>\n",
       "    </tr>\n",
       "    <tr>\n",
       "      <th>14</th>\n",
       "      <td>natural</td>\n",
       "      <td>40</td>\n",
       "    </tr>\n",
       "    <tr>\n",
       "      <th>1</th>\n",
       "      <td>britannia</td>\n",
       "      <td>120</td>\n",
       "    </tr>\n",
       "    <tr>\n",
       "      <th>5</th>\n",
       "      <td>fastrack</td>\n",
       "      <td>160</td>\n",
       "    </tr>\n",
       "    <tr>\n",
       "      <th>0</th>\n",
       "      <td>amul</td>\n",
       "      <td>164</td>\n",
       "    </tr>\n",
       "    <tr>\n",
       "      <th>17</th>\n",
       "      <td>patanjali</td>\n",
       "      <td>172</td>\n",
       "    </tr>\n",
       "    <tr>\n",
       "      <th>22</th>\n",
       "      <td>tata</td>\n",
       "      <td>180</td>\n",
       "    </tr>\n",
       "    <tr>\n",
       "      <th>4</th>\n",
       "      <td>dettol</td>\n",
       "      <td>180</td>\n",
       "    </tr>\n",
       "    <tr>\n",
       "      <th>20</th>\n",
       "      <td>society</td>\n",
       "      <td>182</td>\n",
       "    </tr>\n",
       "    <tr>\n",
       "      <th>21</th>\n",
       "      <td>streax</td>\n",
       "      <td>188</td>\n",
       "    </tr>\n",
       "    <tr>\n",
       "      <th>13</th>\n",
       "      <td>mysore</td>\n",
       "      <td>194</td>\n",
       "    </tr>\n",
       "    <tr>\n",
       "      <th>8</th>\n",
       "      <td>himalaya</td>\n",
       "      <td>200</td>\n",
       "    </tr>\n",
       "    <tr>\n",
       "      <th>7</th>\n",
       "      <td>godrej</td>\n",
       "      <td>200</td>\n",
       "    </tr>\n",
       "    <tr>\n",
       "      <th>2</th>\n",
       "      <td>cinthol</td>\n",
       "      <td>200</td>\n",
       "    </tr>\n",
       "    <tr>\n",
       "      <th>12</th>\n",
       "      <td>mamaearth</td>\n",
       "      <td>200</td>\n",
       "    </tr>\n",
       "    <tr>\n",
       "      <th>23</th>\n",
       "      <td>titan</td>\n",
       "      <td>200</td>\n",
       "    </tr>\n",
       "  </tbody>\n",
       "</table>\n",
       "</div>"
      ],
      "text/plain": [
       "          brand  count\n",
       "9       indiana      6\n",
       "15  nutrichoice     12\n",
       "11        maggi     20\n",
       "19       savlon     20\n",
       "3          coca     20\n",
       "6        glucon     20\n",
       "10        maaza     20\n",
       "18       reflex     40\n",
       "16        paper     40\n",
       "14      natural     40\n",
       "1     britannia    120\n",
       "5      fastrack    160\n",
       "0          amul    164\n",
       "17    patanjali    172\n",
       "22         tata    180\n",
       "4        dettol    180\n",
       "20      society    182\n",
       "21       streax    188\n",
       "13       mysore    194\n",
       "8      himalaya    200\n",
       "7        godrej    200\n",
       "2       cinthol    200\n",
       "12    mamaearth    200\n",
       "23        titan    200"
      ]
     },
     "execution_count": 51,
     "metadata": {},
     "output_type": "execute_result"
    }
   ],
   "source": [
    "df1= pd.DataFrame(df.groupby('brand')['asin'].count().reset_index())\n",
    "df1.columns= ['brand', 'count']\n",
    "sort_df= df1.sort_values(['count'], ascending= True)\n",
    "sort_df"
   ]
  },
  {
   "cell_type": "code",
   "execution_count": 53,
   "metadata": {},
   "outputs": [
    {
     "data": {
      "image/png": "[encoded data removed]",
      "text/plain": [
       "<Figure size 1152x576 with 1 Axes>"
      ]
     },
     "metadata": {
      "needs_background": "light"
     },
     "output_type": "display_data"
    }
   ],
   "source": [
    "# brands with least no of reviews plot\n",
    "X = sort_df['brand'].iloc[:5]\n",
    "Y = sort_df['count'].iloc[:5]\n",
    "plt.figure(figsize = (16,8))\n",
    "plt.bar(X,Y)\n",
    "plt.xlabel(\"brands\")\n",
    "plt.ylabel(\"count\")\n",
    "plt.title('Top 5 brands with least number of reviews')\n",
    "plt.show()"
   ]
  },
  {
   "cell_type": "code",
   "execution_count": 45,
   "metadata": {},
   "outputs": [
    {
     "data": {
      "image/png": "[encoded data removed]",
      "text/plain": [
       "<Figure size 1152x576 with 1 Axes>"
      ]
     },
     "metadata": {
      "needs_background": "light"
     },
     "output_type": "display_data"
    }
   ],
   "source": [
    "#brands with most number of reviews plot\n",
    "X = sort_df['brand'].iloc[-10:]\n",
    "Y = sort_df['count'].iloc[-10:]\n",
    "plt.figure(figsize = (16,8))\n",
    "plt.bar(X,Y)\n",
    "plt.xlabel(\"brands\")\n",
    "plt.ylabel(\"count\")\n",
    "plt.title('Top 10 brands with MOST number of reviews')\n",
    "plt.show()"
   ]
  },
  {
   "cell_type": "code",
   "execution_count": null,
   "metadata": {},
   "outputs": [],
   "source": []
  }
 ],
 "metadata": {
  "kernelspec": {
   "display_name": "Python 3",
   "language": "python",
   "name": "python3"
  },
  "language_info": {
   "codemirror_mode": {
    "name": "ipython",
    "version": 3
   },
   "file_extension": ".py",
   "mimetype": "text/x-python",
   "name": "python",
   "nbconvert_exporter": "python",
   "pygments_lexer": "ipython3",
   "version": "3.7.6"
  }
 },
 "nbformat": 4,
 "nbformat_minor": 4
}
